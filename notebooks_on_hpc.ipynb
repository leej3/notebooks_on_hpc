{
 "cells": [
  {
   "cell_type": "markdown",
   "metadata": {},
   "source": [
    "This document describes the use of jupyter notebooks on Felix, a NIMH server managed by the NIH HPC team. \n",
    "\n",
    "Jupyter notebooks are a powerful tool to help with reproducibility in scientific computing. They allow us to keep the code and documentation and output of our analysis together. When we wish to document we write markdown, a simple language for formatting text. When we right code, we interact with a \"kernel\". This kernel performs computation for us and returns the output to the notebook. Because of the modular design of jupyter we can use choose different kernel's to run with our notebooks. This allows us to use the same interface to perform analyses in different computing languages."
   ]
  },
  {
   "cell_type": "markdown",
   "metadata": {},
   "source": [
    "## The basic notebook setup"
   ]
  },
  {
   "cell_type": "markdown",
   "metadata": {},
   "source": [
    "### The most basic jupyter notebook setup (on a local personal computer)"
   ]
  },
  {
   "cell_type": "markdown",
   "metadata": {},
   "source": [
    "+ [Install Anaconda](https://www.anaconda.com/download).\n",
    "+ In a new terminal type the command:"
   ]
  },
  {
   "cell_type": "code",
   "execution_count": null,
   "metadata": {
    "collapsed": true
   },
   "outputs": [],
   "source": [
    "jupyter notebook"
   ]
  },
  {
   "cell_type": "markdown",
   "metadata": {},
   "source": [
    "The above may note work depending on your operating system. For example, on Windows it can be easier to use the Anaconda launcher instead of using the command line. We won't delve into this now as the primary focus of this document is for use on the NIH HPC systems."
   ]
  },
  {
   "cell_type": "markdown",
   "metadata": {},
   "source": [
    "###  The most basic jupyter notebook setup on NIH HCP"
   ]
  },
  {
   "cell_type": "markdown",
   "metadata": {},
   "source": [
    "The easiest way to get started with notebooks on felix (assuming you have signed up for an account at the [NIH HPC](https://hpc.nih.gov/docs/accounts.html)) is \n",
    "+ connect to the NIH VPN\n",
    "+ use NoMachine or another VNC software to connect to Felix (Look for the \"Persistent Connections to the NIH HPC Systems\" section [here](https://hpc.nih.gov/docs/connect.html#nx).\n",
    "+ Open a terminal\n",
    "+ Type the following commands in the directory in which you want to launch your jupyter session (confirmed to work for a Bash shell):"
   ]
  },
  {
   "cell_type": "code",
   "execution_count": null,
   "metadata": {
    "collapsed": true
   },
   "outputs": [],
   "source": [
    "module load Anaconda\n",
    "source activate py3.5\n",
    "jupyter notebook"
   ]
  },
  {
   "cell_type": "markdown",
   "metadata": {},
   "source": [
    "This will open jupyter session in a web browser. You're good to go! The rest of this document explores additional variations of this that you can use and might find more convenient. Feel free to pick and choose the tools or simply use the above setup, which is perfectly adequate for most use-cases."
   ]
  },
  {
   "cell_type": "markdown",
   "metadata": {},
   "source": [
    "## Using password protection instead of  a token"
   ]
  },
  {
   "cell_type": "code",
   "execution_count": null,
   "metadata": {
    "collapsed": true
   },
   "outputs": [],
   "source": [
    "jupyter notebook --generate-config ## if you haven't previously configured notebook settings\n",
    "jupyter notebook password "
   ]
  },
  {
   "cell_type": "markdown",
   "metadata": {},
   "source": [
    "## Using your own conda environments"
   ]
  },
  {
   "cell_type": "markdown",
   "metadata": {},
   "source": [
    "** Prerequisites **\n",
    "\n",
    "+ Add a directory for your conda environments in your data directory on hpc in accordance with the instructions found [here](https://hpc.nih.gov/docs/python.html). This means that as you install more software you don't accidentally fill your home directory.\n",
    "\n",
    "On felix:"
   ]
  },
  {
   "cell_type": "code",
   "execution_count": null,
   "metadata": {
    "collapsed": true
   },
   "outputs": [],
   "source": [
    "mkdir /data/$USER/python/envs\n",
    "conda config --add envs_dirs $ANACONDA_HOME/envs\n",
    "conda config --add envs_dirs /home/$USER/.conda/envs\n",
    "conda config --add envs_dirs /data/$USER/python/envs"
   ]
  },
  {
   "cell_type": "markdown",
   "metadata": {},
   "source": [
    "## Splitting up the interface from the computing kernel"
   ]
  },
  {
   "cell_type": "markdown",
   "metadata": {},
   "source": [
    "### ssh keys configured:\n",
    "\n",
    "On local computer add the following to ~/.ssh/config:"
   ]
  },
  {
   "cell_type": "code",
   "execution_count": null,
   "metadata": {
    "collapsed": true
   },
   "outputs": [],
   "source": [
    "ForwardAgent yes\n",
    "ForwardX11 yes\n",
    "Host felix\n",
    "\tHostName felix.nimh.nih.gov\n",
    "\tUser rodgersleejg\n",
    "\tIdentityFile ~/.ssh/nih_ssh_key\n",
    "Host helix\n",
    "\tHostName helix.nih.gov\n",
    "\tUser rodgersleejg\n",
    "\tIdentityFile ~/.ssh/nih_ssh_key"
   ]
  },
  {
   "cell_type": "markdown",
   "metadata": {},
   "source": [
    "On command line on local computer:"
   ]
  },
  {
   "cell_type": "code",
   "execution_count": null,
   "metadata": {
    "collapsed": true
   },
   "outputs": [],
   "source": [
    "cd ~/.ssh\n",
    "ssh-keygen -f nih_ssh_key\n",
    "scp nih_ssh_key.pub $USER@helix.nih.gov:~/.ssh/"
   ]
  },
  {
   "cell_type": "markdown",
   "metadata": {},
   "source": [
    "ssh to helix or felix and type"
   ]
  },
  {
   "cell_type": "code",
   "execution_count": null,
   "metadata": {
    "collapsed": true
   },
   "outputs": [],
   "source": [
    "cd ~/.ssh\n",
    "cat nih_ssh_key.pub >> authorized_keys"
   ]
  },
  {
   "cell_type": "markdown",
   "metadata": {},
   "source": [
    "On local machine:"
   ]
  },
  {
   "cell_type": "code",
   "execution_count": null,
   "metadata": {
    "collapsed": true
   },
   "outputs": [],
   "source": [
    "ssh-add nih_ssh_key\n",
    "<!-- to check it worked -->\n",
    "ssh-add -l"
   ]
  },
  {
   "cell_type": "code",
   "execution_count": null,
   "metadata": {
    "collapsed": true
   },
   "outputs": [],
   "source": []
  },
  {
   "cell_type": "code",
   "execution_count": null,
   "metadata": {
    "collapsed": true
   },
   "outputs": [],
   "source": [
    "jupyter notebook --no-browser --port=9018"
   ]
  },
  {
   "cell_type": "markdown",
   "metadata": {},
   "source": [
    "## Version control with notebooks"
   ]
  },
  {
   "cell_type": "markdown",
   "metadata": {},
   "source": [
    "For this, conda and alias works well. (you could instead use module load git)\n",
    "\n",
    "On felix:"
   ]
  },
  {
   "cell_type": "code",
   "execution_count": null,
   "metadata": {
    "collapsed": true
   },
   "outputs": [],
   "source": [
    "conda create --name gitenv\n",
    "source activate gitenv\n",
    "conda install git\n",
    "echo \"alias git=/data/$USER/python/envs/gitenv/bin/git\" >> ~/.bashrc"
   ]
  },
  {
   "cell_type": "markdown",
   "metadata": {},
   "source": [
    "## Using a bash kernel for the notebook"
   ]
  },
  {
   "cell_type": "markdown",
   "metadata": {},
   "source": [
    "## Getting more notebook functionality"
   ]
  },
  {
   "cell_type": "code",
   "execution_count": null,
   "metadata": {
    "collapsed": true
   },
   "outputs": [],
   "source": [
    "conda install -c conda-forge jupyter_contrib_nbextensions"
   ]
  },
  {
   "cell_type": "markdown",
   "metadata": {},
   "source": [
    "## Containerizing your notebook"
   ]
  },
  {
   "cell_type": "code",
   "execution_count": null,
   "metadata": {
    "collapsed": true
   },
   "outputs": [],
   "source": []
  }
 ],
 "metadata": {
  "kernelspec": {
   "display_name": "Bash",
   "language": "bash",
   "name": "bash"
  },
  "language_info": {
   "codemirror_mode": "shell",
   "file_extension": ".sh",
   "mimetype": "text/x-sh",
   "name": "bash"
  },
  "toc": {
   "colors": {
    "hover_highlight": "#DAA520",
    "navigate_num": "#000000",
    "navigate_text": "#333333",
    "running_highlight": "#FF0000",
    "selected_highlight": "#FFD700",
    "sidebar_border": "#EEEEEE",
    "wrapper_background": "#FFFFFF"
   },
   "moveMenuLeft": true,
   "nav_menu": {
    "height": "246px",
    "width": "252px"
   },
   "navigate_menu": true,
   "number_sections": true,
   "sideBar": true,
   "threshold": 4,
   "toc_cell": false,
   "toc_section_display": "block",
   "toc_window_display": true,
   "widenNotebook": false
  }
 },
 "nbformat": 4,
 "nbformat_minor": 2
}
